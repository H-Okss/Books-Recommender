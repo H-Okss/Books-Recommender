{
 "cells": [
  {
   "cell_type": "markdown",
   "id": "e6e1094d",
   "metadata": {},
   "source": [
    "   # 📚 Machine Learning Project"
   ]
  },
  {
   "cell_type": "markdown",
   "id": "7c79bb4f",
   "metadata": {},
   "source": [
    "## Fait par : \n",
    "* AGZOUL Imane\n",
    "* BOUAGOUN Khadija\n",
    "* OUKESSOU Houda"
   ]
  },
  {
   "cell_type": "markdown",
   "id": "973a0d09",
   "metadata": {},
   "source": [
    "## 1️⃣ Prétraitement des données"
   ]
  },
  {
   "cell_type": "markdown",
   "id": "9c5fe7dc",
   "metadata": {
    "id": "9c5fe7dc"
   },
   "source": [
    "### Importation des librairies"
   ]
  },
  {
   "cell_type": "code",
   "execution_count": 88,
   "id": "2005267a",
   "metadata": {
    "id": "2005267a"
   },
   "outputs": [],
   "source": [
    "import pandas as pd"
   ]
  },
  {
   "cell_type": "markdown",
   "id": "4e3e1ae3",
   "metadata": {
    "id": "4e3e1ae3"
   },
   "source": [
    "### Importation des données :\n",
    "Apres avoir extrait les données relatives aux livres du web et les avoir sauvegardées dans un fichier csv appelé \"books.csv\", on va les télécharger maintenent dans une dataset qu'on va appeler 'books'"
   ]
  },
  {
   "cell_type": "code",
   "execution_count": 89,
   "id": "ee53012a",
   "metadata": {
    "id": "ee53012a"
   },
   "outputs": [],
   "source": [
    "books=pd.read_csv('books.csv')"
   ]
  },
  {
   "cell_type": "code",
   "execution_count": 90,
   "id": "013003e4",
   "metadata": {
    "id": "013003e4",
    "outputId": "484622a3-3084-482d-df51-ec1143f8ddf8"
   },
   "outputs": [
    {
     "data": {
      "text/html": [
       "<div>\n",
       "<style scoped>\n",
       "    .dataframe tbody tr th:only-of-type {\n",
       "        vertical-align: middle;\n",
       "    }\n",
       "\n",
       "    .dataframe tbody tr th {\n",
       "        vertical-align: top;\n",
       "    }\n",
       "\n",
       "    .dataframe thead th {\n",
       "        text-align: right;\n",
       "    }\n",
       "</style>\n",
       "<table border=\"1\" class=\"dataframe\">\n",
       "  <thead>\n",
       "    <tr style=\"text-align: right;\">\n",
       "      <th></th>\n",
       "      <th>Title</th>\n",
       "      <th>Author</th>\n",
       "      <th>Genre</th>\n",
       "      <th>Pages</th>\n",
       "      <th>Year</th>\n",
       "      <th>Downloads</th>\n",
       "      <th>Rating</th>\n",
       "    </tr>\n",
       "  </thead>\n",
       "  <tbody>\n",
       "    <tr>\n",
       "      <th>0</th>\n",
       "      <td>White Fang</td>\n",
       "      <td>\\nJack London\\n</td>\n",
       "      <td>Adventure</td>\n",
       "      <td>176.0</td>\n",
       "      <td>1906.0</td>\n",
       "      <td>41,412</td>\n",
       "      <td>5.000000</td>\n",
       "    </tr>\n",
       "    <tr>\n",
       "      <th>1</th>\n",
       "      <td>20000 Lieues sous les mers</td>\n",
       "      <td>\\nJules Verne\\n</td>\n",
       "      <td>Adventure</td>\n",
       "      <td>449.0</td>\n",
       "      <td>1870.0</td>\n",
       "      <td>31,688</td>\n",
       "      <td>4.000000</td>\n",
       "    </tr>\n",
       "    <tr>\n",
       "      <th>2</th>\n",
       "      <td>By Wit of Woman</td>\n",
       "      <td>\\nArthur W. Marchmont\\n</td>\n",
       "      <td>Adventure</td>\n",
       "      <td>268.0</td>\n",
       "      <td>1905.0</td>\n",
       "      <td>32,146</td>\n",
       "      <td>0.000000</td>\n",
       "    </tr>\n",
       "    <tr>\n",
       "      <th>3</th>\n",
       "      <td>The Lost World</td>\n",
       "      <td>\\nArthur Conan Doyle\\n</td>\n",
       "      <td>Adventure</td>\n",
       "      <td>198.0</td>\n",
       "      <td>1912.0</td>\n",
       "      <td>32,490</td>\n",
       "      <td>4.625000</td>\n",
       "    </tr>\n",
       "    <tr>\n",
       "      <th>4</th>\n",
       "      <td>The Call of the Wild</td>\n",
       "      <td>\\nJack London\\n</td>\n",
       "      <td>Adventure</td>\n",
       "      <td>86.0</td>\n",
       "      <td>1903.0</td>\n",
       "      <td>86,550</td>\n",
       "      <td>4.083333</td>\n",
       "    </tr>\n",
       "  </tbody>\n",
       "</table>\n",
       "</div>"
      ],
      "text/plain": [
       "                        Title                   Author      Genre  Pages  \\\n",
       "0                  White Fang          \\nJack London\\n  Adventure  176.0   \n",
       "1  20000 Lieues sous les mers          \\nJules Verne\\n  Adventure  449.0   \n",
       "2             By Wit of Woman  \\nArthur W. Marchmont\\n  Adventure  268.0   \n",
       "3              The Lost World   \\nArthur Conan Doyle\\n  Adventure  198.0   \n",
       "4        The Call of the Wild          \\nJack London\\n  Adventure   86.0   \n",
       "\n",
       "     Year Downloads    Rating  \n",
       "0  1906.0    41,412  5.000000  \n",
       "1  1870.0    31,688  4.000000  \n",
       "2  1905.0    32,146  0.000000  \n",
       "3  1912.0    32,490  4.625000  \n",
       "4  1903.0    86,550  4.083333  "
      ]
     },
     "execution_count": 90,
     "metadata": {},
     "output_type": "execute_result"
    }
   ],
   "source": [
    "books.head()"
   ]
  },
  {
   "cell_type": "markdown",
   "id": "0ad6ddcf",
   "metadata": {
    "id": "0ad6ddcf"
   },
   "source": [
    "Tout d'abord, on constate que les valeurs de la colonne 'Author' commencent et se terminent par '\\n' qu'on doit enlever.\n",
    "Aussi, on remarque que pour les colonnes 'Pages' et 'Year' ne sont pas des entiers comme prevu.\n",
    "Et finalement, la virgule dans les elements de la colonne 'Downloads' prouvent que leur type est object et non pas un entier.\n",
    "En somme, les colonnes 'Pages', 'Year' et 'Downloads' doivent etre converties en entiers."
   ]
  },
  {
   "cell_type": "code",
   "execution_count": 91,
   "id": "25f9b1ba",
   "metadata": {
    "id": "25f9b1ba",
    "outputId": "2a0ca849-4027-4db9-9ef2-0cf7b0f93ed9"
   },
   "outputs": [
    {
     "data": {
      "text/plain": [
       "(2358, 7)"
      ]
     },
     "execution_count": 91,
     "metadata": {},
     "output_type": "execute_result"
    }
   ],
   "source": [
    "#La taille de notre dataset\n",
    "books.shape"
   ]
  },
  {
   "cell_type": "code",
   "execution_count": 92,
   "id": "56d2d764",
   "metadata": {
    "id": "56d2d764",
    "outputId": "95b14b67-d465-47f9-aa70-0e27be8e5f25"
   },
   "outputs": [
    {
     "name": "stdout",
     "output_type": "stream",
     "text": [
      "<class 'pandas.core.frame.DataFrame'>\n",
      "RangeIndex: 2358 entries, 0 to 2357\n",
      "Data columns (total 7 columns):\n",
      " #   Column     Non-Null Count  Dtype  \n",
      "---  ------     --------------  -----  \n",
      " 0   Title      2358 non-null   object \n",
      " 1   Author     2242 non-null   object \n",
      " 2   Genre      2358 non-null   object \n",
      " 3   Pages      2024 non-null   float64\n",
      " 4   Year       2137 non-null   float64\n",
      " 5   Downloads  2358 non-null   object \n",
      " 6   Rating     2358 non-null   float64\n",
      "dtypes: float64(3), object(4)\n",
      "memory usage: 129.1+ KB\n"
     ]
    }
   ],
   "source": [
    "#Les informations relatives aux données\n",
    "books.info()"
   ]
  },
  {
   "cell_type": "markdown",
   "id": "dbdb2479",
   "metadata": {
    "id": "dbdb2479"
   },
   "source": [
    "- Comme on a constaté auparavant, les colonnes 'Pages', 'Year','Downloads' et 'Rating' ne sont pas des entiers.\n",
    "- En se basant sur les resultats ci-dessus, on remarque que de plus que les colonnes 'Author', 'Pages' et 'Year' contiennet des elements nulls 'NaN'\n",
    "- Pour obtenir le nombre exact de valeurs manquantes, on execute la ligne de code suivante:"
   ]
  },
  {
   "cell_type": "code",
   "execution_count": 93,
   "id": "3ad7cc3c",
   "metadata": {
    "id": "3ad7cc3c",
    "outputId": "7d183b41-435a-42cd-ad7f-5e559eb10a74"
   },
   "outputs": [
    {
     "data": {
      "text/plain": [
       "Title          0\n",
       "Author       116\n",
       "Genre          0\n",
       "Pages        334\n",
       "Year         221\n",
       "Downloads      0\n",
       "Rating         0\n",
       "dtype: int64"
      ]
     },
     "execution_count": 93,
     "metadata": {},
     "output_type": "execute_result"
    }
   ],
   "source": [
    "#Nombre de valeurs manquentes par colonnes\n",
    "books.isna().sum()"
   ]
  },
  {
   "cell_type": "markdown",
   "id": "a4ac752e",
   "metadata": {
    "id": "a4ac752e"
   },
   "source": [
    "- Pour remedier a ce probleme, on va supprimer les lignes dont la valeur de 'Author' est manquante\n",
    "- Quant aux deux colonnes 'Pages' et 'Year', on va les remplacer par la moyenne"
   ]
  },
  {
   "cell_type": "markdown",
   "id": "0d8e62c0",
   "metadata": {
    "id": "0d8e62c0"
   },
   "source": [
    "### Prétraitement des données"
   ]
  },
  {
   "cell_type": "markdown",
   "id": "cc71fe22",
   "metadata": {
    "id": "cc71fe22"
   },
   "source": [
    "- Dans cette étape, on va se débarasser des deux '\\n' de la colonne 'Author':"
   ]
  },
  {
   "cell_type": "code",
   "execution_count": 94,
   "id": "fb7fc5c0",
   "metadata": {
    "id": "fb7fc5c0"
   },
   "outputs": [],
   "source": [
    "books['Author']=books['Author'].str.strip('\\n')"
   ]
  },
  {
   "cell_type": "code",
   "execution_count": 95,
   "id": "9a406410",
   "metadata": {
    "colab": {
     "base_uri": "https://localhost:8080/"
    },
    "id": "9a406410",
    "outputId": "40f1a008-e3c9-4d2f-95b5-ca6a85ad9641"
   },
   "outputs": [
    {
     "data": {
      "text/plain": [
       "0            Jack London\n",
       "1            Jules Verne\n",
       "2    Arthur W. Marchmont\n",
       "3     Arthur Conan Doyle\n",
       "4            Jack London\n",
       "Name: Author, dtype: object"
      ]
     },
     "execution_count": 95,
     "metadata": {},
     "output_type": "execute_result"
    }
   ],
   "source": [
    "books.Author.head()"
   ]
  },
  {
   "cell_type": "markdown",
   "id": "7ec9f4bb",
   "metadata": {
    "id": "7ec9f4bb"
   },
   "source": [
    "- Maintenent, on va se débarasser de la virgule de la colonne 'Downloads'"
   ]
  },
  {
   "cell_type": "code",
   "execution_count": 96,
   "id": "7595ebbc",
   "metadata": {
    "id": "7595ebbc"
   },
   "outputs": [],
   "source": [
    "books['Downloads']=books['Downloads'].str.replace(',','')"
   ]
  },
  {
   "cell_type": "code",
   "execution_count": 97,
   "id": "e684cbee",
   "metadata": {
    "colab": {
     "base_uri": "https://localhost:8080/"
    },
    "id": "e684cbee",
    "outputId": "d42920fb-d244-4a2d-cca3-0c7976472fa5"
   },
   "outputs": [
    {
     "data": {
      "text/plain": [
       "0    41412\n",
       "1    31688\n",
       "2    32146\n",
       "3    32490\n",
       "4    86550\n",
       "Name: Downloads, dtype: object"
      ]
     },
     "execution_count": 97,
     "metadata": {},
     "output_type": "execute_result"
    }
   ],
   "source": [
    "books.Downloads.head()"
   ]
  },
  {
   "cell_type": "markdown",
   "id": "06df69ca",
   "metadata": {
    "id": "06df69ca"
   },
   "source": [
    "- Traitement des valeurs manquantes :"
   ]
  },
  {
   "cell_type": "code",
   "execution_count": 98,
   "id": "819bdbad",
   "metadata": {
    "id": "819bdbad"
   },
   "outputs": [],
   "source": [
    "#Supprimer les lignes qui n'ont pas un auteur\n",
    "books.dropna(subset=['Author'],inplace=True)"
   ]
  },
  {
   "cell_type": "code",
   "execution_count": 99,
   "id": "7f51e57a",
   "metadata": {
    "colab": {
     "base_uri": "https://localhost:8080/"
    },
    "id": "7f51e57a",
    "outputId": "68b02388-d840-4729-efc6-fb177f73b362"
   },
   "outputs": [
    {
     "data": {
      "text/plain": [
       "0"
      ]
     },
     "execution_count": 99,
     "metadata": {},
     "output_type": "execute_result"
    }
   ],
   "source": [
    "#S'assurer que les valeurs manquantes sont bien supprimées\n",
    "books.Author.isna().sum()"
   ]
  },
  {
   "cell_type": "code",
   "execution_count": 100,
   "id": "246c419f",
   "metadata": {
    "id": "246c419f"
   },
   "outputs": [],
   "source": [
    "#Remplacer les valeurs manquentes de la colonne 'Year'\n",
    "books['Year']=books.Year.fillna(books.Year.mean())"
   ]
  },
  {
   "cell_type": "code",
   "execution_count": 101,
   "id": "fd884db0",
   "metadata": {
    "colab": {
     "base_uri": "https://localhost:8080/"
    },
    "id": "fd884db0",
    "outputId": "2ed51a7f-6c74-4003-bafb-4e632a1ab666"
   },
   "outputs": [
    {
     "data": {
      "text/plain": [
       "0"
      ]
     },
     "execution_count": 101,
     "metadata": {},
     "output_type": "execute_result"
    }
   ],
   "source": [
    "#S'assurer que les valeurs manquantes sont bien remplacées\n",
    "books.Year.isna().sum()"
   ]
  },
  {
   "cell_type": "code",
   "execution_count": 102,
   "id": "6d03ccc6",
   "metadata": {
    "id": "6d03ccc6"
   },
   "outputs": [],
   "source": [
    "#Remplacer les valeurs manquentes de la colonne 'pages'\n",
    "books['Pages']=books.Pages.fillna(books.Pages.mean())"
   ]
  },
  {
   "cell_type": "code",
   "execution_count": 103,
   "id": "370df9c2",
   "metadata": {
    "colab": {
     "base_uri": "https://localhost:8080/"
    },
    "id": "370df9c2",
    "outputId": "b0c701b2-579b-486c-99e6-ef44b151eb83"
   },
   "outputs": [
    {
     "data": {
      "text/plain": [
       "0"
      ]
     },
     "execution_count": 103,
     "metadata": {},
     "output_type": "execute_result"
    }
   ],
   "source": [
    "#S'assurer que les valeurs manquantes sont bien remplacées\n",
    "books.Pages.isna().sum()"
   ]
  },
  {
   "cell_type": "code",
   "execution_count": 104,
   "id": "0ffa886d",
   "metadata": {
    "colab": {
     "base_uri": "https://localhost:8080/"
    },
    "id": "0ffa886d",
    "outputId": "99b55ba9-41ca-49d0-d118-56a9756095dc"
   },
   "outputs": [
    {
     "data": {
      "text/plain": [
       "Title        0\n",
       "Author       0\n",
       "Genre        0\n",
       "Pages        0\n",
       "Year         0\n",
       "Downloads    0\n",
       "Rating       0\n",
       "dtype: int64"
      ]
     },
     "execution_count": 104,
     "metadata": {},
     "output_type": "execute_result"
    }
   ],
   "source": [
    "books.isna().sum()"
   ]
  },
  {
   "cell_type": "markdown",
   "id": "83488dbc",
   "metadata": {
    "id": "83488dbc"
   },
   "source": [
    "Il n y a plus de valeurs manquentes dans notre dataset"
   ]
  },
  {
   "cell_type": "markdown",
   "id": "f37fe66d",
   "metadata": {
    "id": "f37fe66d"
   },
   "source": [
    "- Conversion des types"
   ]
  },
  {
   "cell_type": "code",
   "execution_count": 105,
   "id": "8b0b9a75",
   "metadata": {
    "colab": {
     "base_uri": "https://localhost:8080/"
    },
    "id": "8b0b9a75",
    "outputId": "409add7d-8608-4fd4-c2e5-b2408dafe1b3"
   },
   "outputs": [
    {
     "data": {
      "text/plain": [
       "dtype('int64')"
      ]
     },
     "execution_count": 105,
     "metadata": {},
     "output_type": "execute_result"
    }
   ],
   "source": [
    "#Convertir 'Pages' en entier\n",
    "books['Pages']=books.Pages.astype('int64')\n",
    "#S'assurer du bon déroulement de la conversion\n",
    "books.Pages.dtype"
   ]
  },
  {
   "cell_type": "code",
   "execution_count": 106,
   "id": "9c65170e",
   "metadata": {
    "colab": {
     "base_uri": "https://localhost:8080/"
    },
    "id": "9c65170e",
    "outputId": "f58d2327-c45d-40c6-cd05-4a1df27f36b1"
   },
   "outputs": [
    {
     "data": {
      "text/plain": [
       "dtype('int64')"
      ]
     },
     "execution_count": 106,
     "metadata": {},
     "output_type": "execute_result"
    }
   ],
   "source": [
    "#Convertir 'Year' en entier\n",
    "books['Year']=books.Year.astype('int64')\n",
    "#S'assurer du bon déroulement de la conversion\n",
    "books.Year.dtype"
   ]
  },
  {
   "cell_type": "code",
   "execution_count": 107,
   "id": "ce315523",
   "metadata": {
    "colab": {
     "base_uri": "https://localhost:8080/"
    },
    "id": "ce315523",
    "outputId": "2bad1d8e-3d6f-4b67-e28c-c86dd33e7ec3"
   },
   "outputs": [
    {
     "data": {
      "text/plain": [
       "dtype('int64')"
      ]
     },
     "execution_count": 107,
     "metadata": {},
     "output_type": "execute_result"
    }
   ],
   "source": [
    "#Convertir 'Downloads' en entier\n",
    "books['Downloads']=books.Downloads.astype('int64')\n",
    "#S'assurer du bon déroulement de la conversion\n",
    "books.Downloads.dtype"
   ]
  },
  {
   "cell_type": "code",
   "execution_count": 108,
   "id": "67bfba38",
   "metadata": {},
   "outputs": [
    {
     "data": {
      "text/plain": [
       "dtype('int64')"
      ]
     },
     "execution_count": 108,
     "metadata": {},
     "output_type": "execute_result"
    }
   ],
   "source": [
    "#Convertir 'Downloads' en entier\n",
    "books['Rating']=books.Rating.astype('int64')\n",
    "#S'assurer du bon déroulement de la conversion\n",
    "books.Rating.dtype"
   ]
  },
  {
   "cell_type": "code",
   "execution_count": 109,
   "id": "b5f47159",
   "metadata": {},
   "outputs": [
    {
     "data": {
      "text/html": [
       "<div>\n",
       "<style scoped>\n",
       "    .dataframe tbody tr th:only-of-type {\n",
       "        vertical-align: middle;\n",
       "    }\n",
       "\n",
       "    .dataframe tbody tr th {\n",
       "        vertical-align: top;\n",
       "    }\n",
       "\n",
       "    .dataframe thead th {\n",
       "        text-align: right;\n",
       "    }\n",
       "</style>\n",
       "<table border=\"1\" class=\"dataframe\">\n",
       "  <thead>\n",
       "    <tr style=\"text-align: right;\">\n",
       "      <th></th>\n",
       "      <th>Pages</th>\n",
       "      <th>Year</th>\n",
       "      <th>Downloads</th>\n",
       "      <th>Rating</th>\n",
       "    </tr>\n",
       "  </thead>\n",
       "  <tbody>\n",
       "    <tr>\n",
       "      <th>count</th>\n",
       "      <td>2242.000000</td>\n",
       "      <td>2242.000000</td>\n",
       "      <td>2242.000000</td>\n",
       "      <td>2242.000000</td>\n",
       "    </tr>\n",
       "    <tr>\n",
       "      <th>mean</th>\n",
       "      <td>227.258252</td>\n",
       "      <td>1904.534790</td>\n",
       "      <td>24713.464318</td>\n",
       "      <td>2.150312</td>\n",
       "    </tr>\n",
       "    <tr>\n",
       "      <th>std</th>\n",
       "      <td>210.002020</td>\n",
       "      <td>150.412106</td>\n",
       "      <td>53713.629072</td>\n",
       "      <td>2.031034</td>\n",
       "    </tr>\n",
       "    <tr>\n",
       "      <th>min</th>\n",
       "      <td>0.000000</td>\n",
       "      <td>0.000000</td>\n",
       "      <td>259.000000</td>\n",
       "      <td>0.000000</td>\n",
       "    </tr>\n",
       "    <tr>\n",
       "      <th>25%</th>\n",
       "      <td>97.000000</td>\n",
       "      <td>1893.000000</td>\n",
       "      <td>2170.500000</td>\n",
       "      <td>0.000000</td>\n",
       "    </tr>\n",
       "    <tr>\n",
       "      <th>50%</th>\n",
       "      <td>208.000000</td>\n",
       "      <td>1908.000000</td>\n",
       "      <td>8978.000000</td>\n",
       "      <td>3.000000</td>\n",
       "    </tr>\n",
       "    <tr>\n",
       "      <th>75%</th>\n",
       "      <td>274.000000</td>\n",
       "      <td>1931.000000</td>\n",
       "      <td>25084.000000</td>\n",
       "      <td>4.000000</td>\n",
       "    </tr>\n",
       "    <tr>\n",
       "      <th>max</th>\n",
       "      <td>2049.000000</td>\n",
       "      <td>2022.000000</td>\n",
       "      <td>782825.000000</td>\n",
       "      <td>5.000000</td>\n",
       "    </tr>\n",
       "  </tbody>\n",
       "</table>\n",
       "</div>"
      ],
      "text/plain": [
       "             Pages         Year      Downloads       Rating\n",
       "count  2242.000000  2242.000000    2242.000000  2242.000000\n",
       "mean    227.258252  1904.534790   24713.464318     2.150312\n",
       "std     210.002020   150.412106   53713.629072     2.031034\n",
       "min       0.000000     0.000000     259.000000     0.000000\n",
       "25%      97.000000  1893.000000    2170.500000     0.000000\n",
       "50%     208.000000  1908.000000    8978.000000     3.000000\n",
       "75%     274.000000  1931.000000   25084.000000     4.000000\n",
       "max    2049.000000  2022.000000  782825.000000     5.000000"
      ]
     },
     "execution_count": 109,
     "metadata": {},
     "output_type": "execute_result"
    }
   ],
   "source": [
    "books.describe()"
   ]
  },
  {
   "cell_type": "markdown",
   "id": "10d8d026",
   "metadata": {},
   "source": [
    "On constate l'existance de certains livres dont le nombre de pages vaut 0 et l'annee de publication vaut 0"
   ]
  },
  {
   "cell_type": "code",
   "execution_count": 110,
   "id": "0866e03b",
   "metadata": {},
   "outputs": [
    {
     "data": {
      "text/plain": [
       "3"
      ]
     },
     "execution_count": 110,
     "metadata": {},
     "output_type": "execute_result"
    }
   ],
   "source": [
    "#nombre de livres ayant Year = 0\n",
    "books[books['Year']==0].shape[0]"
   ]
  },
  {
   "cell_type": "code",
   "execution_count": 111,
   "id": "d3b71f0f",
   "metadata": {},
   "outputs": [
    {
     "data": {
      "text/html": [
       "<div>\n",
       "<style scoped>\n",
       "    .dataframe tbody tr th:only-of-type {\n",
       "        vertical-align: middle;\n",
       "    }\n",
       "\n",
       "    .dataframe tbody tr th {\n",
       "        vertical-align: top;\n",
       "    }\n",
       "\n",
       "    .dataframe thead th {\n",
       "        text-align: right;\n",
       "    }\n",
       "</style>\n",
       "<table border=\"1\" class=\"dataframe\">\n",
       "  <thead>\n",
       "    <tr style=\"text-align: right;\">\n",
       "      <th></th>\n",
       "      <th>Title</th>\n",
       "      <th>Author</th>\n",
       "      <th>Genre</th>\n",
       "      <th>Pages</th>\n",
       "      <th>Year</th>\n",
       "      <th>Downloads</th>\n",
       "      <th>Rating</th>\n",
       "    </tr>\n",
       "  </thead>\n",
       "  <tbody>\n",
       "    <tr>\n",
       "      <th>1004</th>\n",
       "      <td>The Art of War</td>\n",
       "      <td>Zi Sun</td>\n",
       "      <td>History</td>\n",
       "      <td>150</td>\n",
       "      <td>0</td>\n",
       "      <td>782825</td>\n",
       "      <td>4</td>\n",
       "    </tr>\n",
       "    <tr>\n",
       "      <th>1540</th>\n",
       "      <td>The Art of War</td>\n",
       "      <td>Zi Sun</td>\n",
       "      <td>Philosophy</td>\n",
       "      <td>150</td>\n",
       "      <td>0</td>\n",
       "      <td>782825</td>\n",
       "      <td>4</td>\n",
       "    </tr>\n",
       "    <tr>\n",
       "      <th>2243</th>\n",
       "      <td>The Art of War</td>\n",
       "      <td>Zi Sun</td>\n",
       "      <td>War</td>\n",
       "      <td>150</td>\n",
       "      <td>0</td>\n",
       "      <td>782825</td>\n",
       "      <td>4</td>\n",
       "    </tr>\n",
       "  </tbody>\n",
       "</table>\n",
       "</div>"
      ],
      "text/plain": [
       "               Title  Author       Genre  Pages  Year  Downloads  Rating\n",
       "1004  The Art of War  Zi Sun     History    150     0     782825       4\n",
       "1540  The Art of War  Zi Sun  Philosophy    150     0     782825       4\n",
       "2243  The Art of War  Zi Sun         War    150     0     782825       4"
      ]
     },
     "execution_count": 111,
     "metadata": {},
     "output_type": "execute_result"
    }
   ],
   "source": [
    "books[books['Year']==0]"
   ]
  },
  {
   "cell_type": "markdown",
   "id": "bd6e4000",
   "metadata": {},
   "source": [
    "En cherchant sur le web le livre 'The Art of War' on trouve qu'il a ete ecrit 5 av J.C donc on va pas changer la valeur 0"
   ]
  },
  {
   "cell_type": "code",
   "execution_count": 112,
   "id": "ad6b1100",
   "metadata": {},
   "outputs": [
    {
     "data": {
      "text/plain": [
       "82"
      ]
     },
     "execution_count": 112,
     "metadata": {},
     "output_type": "execute_result"
    }
   ],
   "source": [
    "#nombre de livres ayant Pages = 0\n",
    "books[books['Pages']==0].shape[0]"
   ]
  },
  {
   "cell_type": "code",
   "execution_count": 113,
   "id": "2e9688b2",
   "metadata": {},
   "outputs": [],
   "source": [
    "#Remplacer le nombre de page =0 par la moyenne\n",
    "books.Pages=books.Pages.replace(0,int(books.Year.mean()))"
   ]
  },
  {
   "cell_type": "code",
   "execution_count": 114,
   "id": "a5e292ab",
   "metadata": {},
   "outputs": [
    {
     "data": {
      "text/html": [
       "<div>\n",
       "<style scoped>\n",
       "    .dataframe tbody tr th:only-of-type {\n",
       "        vertical-align: middle;\n",
       "    }\n",
       "\n",
       "    .dataframe tbody tr th {\n",
       "        vertical-align: top;\n",
       "    }\n",
       "\n",
       "    .dataframe thead th {\n",
       "        text-align: right;\n",
       "    }\n",
       "</style>\n",
       "<table border=\"1\" class=\"dataframe\">\n",
       "  <thead>\n",
       "    <tr style=\"text-align: right;\">\n",
       "      <th></th>\n",
       "      <th>Title</th>\n",
       "      <th>Author</th>\n",
       "      <th>Genre</th>\n",
       "      <th>Pages</th>\n",
       "      <th>Year</th>\n",
       "      <th>Downloads</th>\n",
       "      <th>Rating</th>\n",
       "    </tr>\n",
       "  </thead>\n",
       "  <tbody>\n",
       "  </tbody>\n",
       "</table>\n",
       "</div>"
      ],
      "text/plain": [
       "Empty DataFrame\n",
       "Columns: [Title, Author, Genre, Pages, Year, Downloads, Rating]\n",
       "Index: []"
      ]
     },
     "execution_count": 114,
     "metadata": {},
     "output_type": "execute_result"
    }
   ],
   "source": [
    "books[books['Pages']==0]"
   ]
  },
  {
   "cell_type": "markdown",
   "id": "HqzOCCWWBH9D",
   "metadata": {
    "id": "HqzOCCWWBH9D"
   },
   "source": [
    "# 2️⃣ Analyse exploratoire des données"
   ]
  },
  {
   "cell_type": "markdown",
   "id": "3DOhJGxqBc90",
   "metadata": {
    "id": "3DOhJGxqBc90"
   },
   "source": [
    "## Distribution des types de variables "
   ]
  },
  {
   "cell_type": "code",
   "execution_count": 115,
   "id": "Be5sIF9XCNVG",
   "metadata": {
    "id": "Be5sIF9XCNVG"
   },
   "outputs": [],
   "source": [
    "import matplotlib.pyplot as plt\n",
    "plt.style.use('fivethirtyeight')\n",
    "import seaborn as sns"
   ]
  },
  {
   "cell_type": "code",
   "execution_count": 116,
   "id": "ccIr8VQnCcjT",
   "metadata": {
    "colab": {
     "base_uri": "https://localhost:8080/"
    },
    "id": "ccIr8VQnCcjT",
    "outputId": "c5bafe8a-9522-4186-91de-ae827b5bd86c"
   },
   "outputs": [
    {
     "data": {
      "text/plain": [
       "int64     4\n",
       "object    3\n",
       "dtype: int64"
      ]
     },
     "execution_count": 116,
     "metadata": {},
     "output_type": "execute_result"
    }
   ],
   "source": [
    "books.dtypes.value_counts()"
   ]
  },
  {
   "cell_type": "code",
   "execution_count": 117,
   "id": "fwmN6m2aBhEb",
   "metadata": {
    "colab": {
     "base_uri": "https://localhost:8080/",
     "height": 265
    },
    "id": "fwmN6m2aBhEb",
    "outputId": "6ffbfd16-bc87-43d1-8297-6492733cb7ed"
   },
   "outputs": [
    {
     "data": {
      "text/plain": [
       "<AxesSubplot:ylabel='None'>"
      ]
     },
     "execution_count": 117,
     "metadata": {},
     "output_type": "execute_result"
    },
    {
     "data": {
      "image/png": "[encoded data removed]",
      "text/plain": [
       "<Figure size 432x288 with 1 Axes>"
      ]
     },
     "metadata": {},
     "output_type": "display_data"
    }
   ],
   "source": [
    "books.dtypes.value_counts().plot.pie()"
   ]
  },
  {
   "cell_type": "markdown",
   "id": "CPNwuprGCawL",
   "metadata": {
    "id": "CPNwuprGCawL"
   },
   "source": [
    "On remarque la presence de trois variables qualitaties et quatre quantitatives."
   ]
  },
  {
   "cell_type": "markdown",
   "id": "2xrZx6NcBP0F",
   "metadata": {
    "id": "2xrZx6NcBP0F"
   },
   "source": [
    "## Analyse des variables quantitatives "
   ]
  },
  {
   "cell_type": "code",
   "execution_count": 118,
   "id": "YDXNw7EqIxdq",
   "metadata": {
    "colab": {
     "base_uri": "https://localhost:8080/"
    },
    "id": "YDXNw7EqIxdq",
    "outputId": "71769f0e-db04-448b-cc1e-5f447670b5f0"
   },
   "outputs": [
    {
     "name": "stdout",
     "output_type": "stream",
     "text": [
      "Les variables quantitatives sont : Index([], dtype='object')\n"
     ]
    }
   ],
   "source": [
    "print(f\"Les variables quantitatives sont : {books.select_dtypes(['int']).columns}\")"
   ]
  },
  {
   "cell_type": "code",
   "execution_count": 119,
   "id": "k_Z0aKogBXyE",
   "metadata": {
    "colab": {
     "base_uri": "https://localhost:8080/",
     "height": 1000
    },
    "id": "k_Z0aKogBXyE",
    "outputId": "3be9e700-442f-495a-bfd1-d83c9710ea19"
   },
   "outputs": [],
   "source": [
    "for col in books.select_dtypes(['int']):\n",
    "    plt.figure()\n",
    "    sns.distplot(books[col])"
   ]
  },
  {
   "cell_type": "markdown",
   "id": "0LtjPsbxCx9b",
   "metadata": {
    "id": "0LtjPsbxCx9b"
   },
   "source": [
    "Toutes les variables quantitatives n'ont pas une distribution normale, du coup, on doit la normaliser apres dans l'etape de modelisation."
   ]
  },
  {
   "cell_type": "markdown",
   "id": "E4iYViDGDByh",
   "metadata": {
    "id": "E4iYViDGDByh"
   },
   "source": [
    "### Anayse de la variable Rating :"
   ]
  },
  {
   "cell_type": "code",
   "execution_count": 120,
   "id": "QhoKE2l0DFXw",
   "metadata": {
    "id": "QhoKE2l0DFXw"
   },
   "outputs": [],
   "source": [
    "# helper function\n",
    "def plot_countplot(df, column_name, figsize=(6, 4), orient='v'):\n",
    "    with sns.axes_style('ticks'):\n",
    "        _, ax = plt.subplots(figsize=figsize)\n",
    "        \n",
    "        if orient == 'v':\n",
    "            sns.countplot(x=column_name, data=df, color='#ff6198', alpha=.7, ax=ax)\n",
    "        else:\n",
    "            sns.countplot(y=column_name, data=df, color='#ff6198', alpha=.7, ax=ax)\n",
    "            \n",
    "        sns.despine(offset=(0, 4))"
   ]
  },
  {
   "cell_type": "code",
   "execution_count": 121,
   "id": "3G6Fd4J1DNPl",
   "metadata": {
    "colab": {
     "base_uri": "https://localhost:8080/",
     "height": 366
    },
    "id": "3G6Fd4J1DNPl",
    "outputId": "7c40f839-9f0f-4c52-eb04-bde8942e3377"
   },
   "outputs": [
    {
     "data": {
      "image/png": "[encoded data removed]",
      "text/plain": [
       "<Figure size 576x360 with 1 Axes>"
      ]
     },
     "metadata": {},
     "output_type": "display_data"
    }
   ],
   "source": [
    "plot_countplot(books, 'Rating', figsize=(8, 5), orient='h')"
   ]
  },
  {
   "cell_type": "markdown",
   "id": "aUFhFkYGDOnC",
   "metadata": {
    "id": "aUFhFkYGDOnC"
   },
   "source": [
    "La majorite des livres présents dans notre jeu de données ont soit de mauvaises évaluations ou des évaluations qui sont élevés!"
   ]
  },
  {
   "cell_type": "markdown",
   "id": "TXq-sQaRECv7",
   "metadata": {
    "id": "TXq-sQaRECv7"
   },
   "source": [
    "### Analyse de la correlation entre les vatiables quantitatives"
   ]
  },
  {
   "cell_type": "code",
   "execution_count": 122,
   "id": "y7grUiTuEIAm",
   "metadata": {
    "colab": {
     "base_uri": "https://localhost:8080/",
     "height": 1000
    },
    "id": "y7grUiTuEIAm",
    "outputId": "5f01ed99-4016-4ae9-fa43-f70067edd2ca"
   },
   "outputs": [
    {
     "data": {
      "text/plain": [
       "<Figure size 432x288 with 0 Axes>"
      ]
     },
     "metadata": {},
     "output_type": "display_data"
    },
    {
     "data": {
      "image/png": "[encoded data removed]",
      "text/plain": [
       "<Figure size 360x360 with 1 Axes>"
      ]
     },
     "metadata": {},
     "output_type": "display_data"
    },
    {
     "data": {
      "text/plain": [
       "<Figure size 432x288 with 0 Axes>"
      ]
     },
     "metadata": {},
     "output_type": "display_data"
    },
    {
     "data": {
      "image/png": "[encoded data removed]",
      "text/plain": [
       "<Figure size 360x360 with 1 Axes>"
      ]
     },
     "metadata": {},
     "output_type": "display_data"
    },
    {
     "data": {
      "text/plain": [
       "<Figure size 432x288 with 0 Axes>"
      ]
     },
     "metadata": {},
     "output_type": "display_data"
    },
    {
     "data": {
      "image/png": "[encoded data removed]",
      "text/plain": [
       "<Figure size 360x360 with 1 Axes>"
      ]
     },
     "metadata": {},
     "output_type": "display_data"
    }
   ],
   "source": [
    "for col in ['Pages', 'Year', 'Downloads'] :\n",
    "    plt.figure()\n",
    "    sns.lmplot(x='Downloads', y='Rating', data=books)"
   ]
  },
  {
   "cell_type": "code",
   "execution_count": 123,
   "id": "AE0FzajYEWCn",
   "metadata": {
    "colab": {
     "base_uri": "https://localhost:8080/",
     "height": 899
    },
    "id": "AE0FzajYEWCn",
    "outputId": "6c52473b-fb77-4a86-fc44-167009094071"
   },
   "outputs": [
    {
     "data": {
      "image/png": "[encoded data removed]",
      "text/plain": [
       "<Figure size 720x720 with 20 Axes>"
      ]
     },
     "metadata": {},
     "output_type": "display_data"
    }
   ],
   "source": [
    "sns.pairplot(books)\n",
    "plt.show()"
   ]
  },
  {
   "cell_type": "code",
   "execution_count": 124,
   "id": "hQQO9P8wEuoG",
   "metadata": {
    "colab": {
     "base_uri": "https://localhost:8080/",
     "height": 397
    },
    "id": "hQQO9P8wEuoG",
    "outputId": "3d7d7ece-0c6f-479d-bb0d-528ae44b8b84"
   },
   "outputs": [
    {
     "data": {
      "image/png": "[encoded data removed]",
      "text/plain": [
       "<Figure size 432x288 with 2 Axes>"
      ]
     },
     "metadata": {},
     "output_type": "display_data"
    }
   ],
   "source": [
    "sns.heatmap(books.corr(), annot = True , cmap = 'copper')  #annot = true means it will show the values in heatmap \n",
    "plt.title('correlation heatmap of data', fontsize = 15)\n",
    "plt.show()"
   ]
  },
  {
   "cell_type": "markdown",
   "id": "3JxHjaamEyr_",
   "metadata": {
    "id": "3JxHjaamEyr_"
   },
   "source": [
    "A partir de ces trois resultats, on remarque qu'il n'y a pas de fortes correlations lineares entre nos variables sauf entre Downloads et Year!"
   ]
  },
  {
   "cell_type": "markdown",
   "id": "N0h4-BagH5jv",
   "metadata": {
    "id": "N0h4-BagH5jv"
   },
   "source": [
    "### Analyse de la correlation entre Downloads et Rounded Rating"
   ]
  },
  {
   "cell_type": "code",
   "execution_count": 125,
   "id": "asDwTIimIA9N",
   "metadata": {
    "colab": {
     "base_uri": "https://localhost:8080/",
     "height": 321
    },
    "id": "asDwTIimIA9N",
    "outputId": "daa79e24-2755-4bdc-b034-05401b68500a"
   },
   "outputs": [
    {
     "data": {
      "text/plain": [
       "<AxesSubplot:xlabel='Rating', ylabel='Downloads'>"
      ]
     },
     "execution_count": 125,
     "metadata": {},
     "output_type": "execute_result"
    },
    {
     "data": {
      "image/png": "[encoded data removed]",
      "text/plain": [
       "<Figure size 432x288 with 1 Axes>"
      ]
     },
     "metadata": {},
     "output_type": "display_data"
    }
   ],
   "source": [
    "sns.boxplot(x='Rating', y='Downloads', data=books)"
   ]
  },
  {
   "cell_type": "markdown",
   "id": "vBW9Gnx6IN2O",
   "metadata": {
    "id": "vBW9Gnx6IN2O"
   },
   "source": [
    "Y'a pas de grande variation entre les differents evaluations."
   ]
  },
  {
   "cell_type": "markdown",
   "id": "2UZDWp6mFJGV",
   "metadata": {
    "id": "2UZDWp6mFJGV"
   },
   "source": [
    "## Analyse des variables quanlitatives"
   ]
  },
  {
   "cell_type": "code",
   "execution_count": 126,
   "id": "23kS-QvAFR_M",
   "metadata": {
    "colab": {
     "base_uri": "https://localhost:8080/"
    },
    "id": "23kS-QvAFR_M",
    "outputId": "6d4956cd-c383-4334-d6b6-75f135d160b5"
   },
   "outputs": [
    {
     "name": "stdout",
     "output_type": "stream",
     "text": [
      "Les variables qualitatives sont : Index(['Title', 'Author', 'Genre'], dtype='object')\n"
     ]
    }
   ],
   "source": [
    "print(f\"Les variables qualitatives sont : {books.select_dtypes('O').columns}\")"
   ]
  },
  {
   "cell_type": "markdown",
   "id": "flv53CS8F2rO",
   "metadata": {
    "id": "flv53CS8F2rO"
   },
   "source": [
    "### Analyse de la variable Genre "
   ]
  },
  {
   "cell_type": "code",
   "execution_count": 127,
   "id": "ZYGJsqRUF7bZ",
   "metadata": {
    "colab": {
     "base_uri": "https://localhost:8080/"
    },
    "id": "ZYGJsqRUF7bZ",
    "outputId": "d7d7a49d-95fa-4f94-997c-2d85c1dcd044"
   },
   "outputs": [
    {
     "name": "stdout",
     "output_type": "stream",
     "text": [
      "Nombre de genres presents dans le jeu de donnees est : 61 \n",
      "\n",
      "Genre--------------------------------------------- ['Adventure' 'African-American Studies' 'Art' 'Banned Books' 'Biography'\n",
      " 'Business' 'Canadian Literature' 'Classic' 'Computers' 'Cooking'\n",
      " 'Correspondence' 'Creative Commons' 'Criticism' 'Drama' 'Espionage'\n",
      " 'Essays' 'Etiquette' 'Fantasy' 'Fiction and Literature' 'Games'\n",
      " 'Gay/Lesbian' 'Ghost Stories' 'Gothic' 'Harvard Classics' 'Health'\n",
      " 'History' 'Horror' 'Humor' 'Instructional' 'Language' 'Music'\n",
      " 'Mystery/Detective' 'Myth' 'Nature' 'Nautical' 'Non-fiction' 'Occult'\n",
      " 'Periodical' 'Philosophy' 'Pirate Tales' 'Poetry' 'Politics' 'Post-1930'\n",
      " 'Psychology' 'Pulp' 'Random Selection' 'Reference' 'Religion' 'Romance'\n",
      " 'Satire' 'Science' 'Science Fiction' 'Sexuality' 'Short Story'\n",
      " 'Short Story Collection' 'Thriller' 'Travel' 'War' 'Western'\n",
      " \"Women's Studies\" 'Young Readers']\n"
     ]
    }
   ],
   "source": [
    "col = 'Genre'\n",
    "print(f'Nombre de genres presents dans le jeu de donnees est : {books[col].nunique()}','\\n')\n",
    "print(f\"{col :-<50} {books[col].unique()}\")"
   ]
  },
  {
   "cell_type": "code",
   "execution_count": 128,
   "id": "Me8b0L2_F_IE",
   "metadata": {
    "colab": {
     "base_uri": "https://localhost:8080/",
     "height": 700
    },
    "id": "Me8b0L2_F_IE",
    "outputId": "4614475d-3a0b-4221-8c03-4a11b22035d8"
   },
   "outputs": [
    {
     "data": {
      "image/png": "[encoded data removed]",
      "text/plain": [
       "<Figure size 1152x576 with 1 Axes>"
      ]
     },
     "metadata": {},
     "output_type": "display_data"
    }
   ],
   "source": [
    "# on visualise le nombre de livres par genre\n",
    "plt.figure(figsize=(16,8))\n",
    "chart = sns.countplot(\n",
    "    data=books,\n",
    "    x='Genre',\n",
    "    palette='hsv'\n",
    ")\n",
    "chart.set_xticklabels(chart.get_xticklabels(), rotation=80)\n",
    "plt.show()"
   ]
  },
  {
   "cell_type": "markdown",
   "id": "pglZVvbKGMU-",
   "metadata": {
    "id": "pglZVvbKGMU-"
   },
   "source": [
    "On a 61 genre de livres."
   ]
  },
  {
   "cell_type": "code",
   "execution_count": 129,
   "id": "NFr1Qch_GmFn",
   "metadata": {
    "colab": {
     "base_uri": "https://localhost:8080/"
    },
    "id": "NFr1Qch_GmFn",
    "outputId": "c5feee4c-7e80-4d44-9938-5ad655c6bb97"
   },
   "outputs": [
    {
     "name": "stdout",
     "output_type": "stream",
     "text": [
      "Le nombre des differents livres dans notre jeu de donnees est  : 1544\n",
      "Le nombre des differents auteurs dans notre jeu de donnees est : 1146\n"
     ]
    }
   ],
   "source": [
    "print(f'Le nombre des differents livres dans notre jeu de donnees est  : {books.Title.nunique()}' )\n",
    "print(f'Le nombre des differents auteurs dans notre jeu de donnees est : {books.Author.nunique()}' )"
   ]
  },
  {
   "cell_type": "markdown",
   "id": "qph8zSgNHDLN",
   "metadata": {
    "id": "qph8zSgNHDLN"
   },
   "source": [
    "Notre jeu de donnees est tres diversifiee en terme de livres et auteurs."
   ]
  },
  {
   "cell_type": "markdown",
   "id": "ce91289e",
   "metadata": {
    "id": "ce91289e"
   },
   "source": [
    "# 3️⃣ Model Building"
   ]
  },
  {
   "cell_type": "markdown",
   "id": "d244a550",
   "metadata": {
    "id": "d244a550"
   },
   "source": [
    "## Préparation des données"
   ]
  },
  {
   "cell_type": "markdown",
   "id": "424d548b",
   "metadata": {
    "id": "424d548b"
   },
   "source": [
    "### Déclaration des Features"
   ]
  },
  {
   "cell_type": "code",
   "execution_count": 130,
   "id": "a5e9d58a",
   "metadata": {
    "id": "a5e9d58a",
    "outputId": "2772a106-a0ee-4efb-f768-073449ba8136",
    "scrolled": true
   },
   "outputs": [
    {
     "data": {
      "text/html": [
       "<div>\n",
       "<style scoped>\n",
       "    .dataframe tbody tr th:only-of-type {\n",
       "        vertical-align: middle;\n",
       "    }\n",
       "\n",
       "    .dataframe tbody tr th {\n",
       "        vertical-align: top;\n",
       "    }\n",
       "\n",
       "    .dataframe thead th {\n",
       "        text-align: right;\n",
       "    }\n",
       "</style>\n",
       "<table border=\"1\" class=\"dataframe\">\n",
       "  <thead>\n",
       "    <tr style=\"text-align: right;\">\n",
       "      <th></th>\n",
       "      <th>Author</th>\n",
       "      <th>Genre</th>\n",
       "      <th>Pages</th>\n",
       "      <th>Year</th>\n",
       "      <th>Downloads</th>\n",
       "      <th>Rating</th>\n",
       "    </tr>\n",
       "  </thead>\n",
       "  <tbody>\n",
       "    <tr>\n",
       "      <th>0</th>\n",
       "      <td>Jack London</td>\n",
       "      <td>Adventure</td>\n",
       "      <td>176</td>\n",
       "      <td>1906</td>\n",
       "      <td>41412</td>\n",
       "      <td>5</td>\n",
       "    </tr>\n",
       "    <tr>\n",
       "      <th>1</th>\n",
       "      <td>Jules Verne</td>\n",
       "      <td>Adventure</td>\n",
       "      <td>449</td>\n",
       "      <td>1870</td>\n",
       "      <td>31688</td>\n",
       "      <td>4</td>\n",
       "    </tr>\n",
       "    <tr>\n",
       "      <th>2</th>\n",
       "      <td>Arthur W. Marchmont</td>\n",
       "      <td>Adventure</td>\n",
       "      <td>268</td>\n",
       "      <td>1905</td>\n",
       "      <td>32146</td>\n",
       "      <td>0</td>\n",
       "    </tr>\n",
       "    <tr>\n",
       "      <th>3</th>\n",
       "      <td>Arthur Conan Doyle</td>\n",
       "      <td>Adventure</td>\n",
       "      <td>198</td>\n",
       "      <td>1912</td>\n",
       "      <td>32490</td>\n",
       "      <td>4</td>\n",
       "    </tr>\n",
       "    <tr>\n",
       "      <th>4</th>\n",
       "      <td>Jack London</td>\n",
       "      <td>Adventure</td>\n",
       "      <td>86</td>\n",
       "      <td>1903</td>\n",
       "      <td>86550</td>\n",
       "      <td>4</td>\n",
       "    </tr>\n",
       "    <tr>\n",
       "      <th>...</th>\n",
       "      <td>...</td>\n",
       "      <td>...</td>\n",
       "      <td>...</td>\n",
       "      <td>...</td>\n",
       "      <td>...</td>\n",
       "      <td>...</td>\n",
       "    </tr>\n",
       "    <tr>\n",
       "      <th>2352</th>\n",
       "      <td>W. H. G. Kingston</td>\n",
       "      <td>Young Readers</td>\n",
       "      <td>1904</td>\n",
       "      <td>1874</td>\n",
       "      <td>1049</td>\n",
       "      <td>0</td>\n",
       "    </tr>\n",
       "    <tr>\n",
       "      <th>2353</th>\n",
       "      <td>J. M. Barrie</td>\n",
       "      <td>Young Readers</td>\n",
       "      <td>137</td>\n",
       "      <td>1904</td>\n",
       "      <td>40361</td>\n",
       "      <td>4</td>\n",
       "    </tr>\n",
       "    <tr>\n",
       "      <th>2354</th>\n",
       "      <td>Angela Brazil</td>\n",
       "      <td>Young Readers</td>\n",
       "      <td>164</td>\n",
       "      <td>1912</td>\n",
       "      <td>83206</td>\n",
       "      <td>0</td>\n",
       "    </tr>\n",
       "    <tr>\n",
       "      <th>2355</th>\n",
       "      <td>Charles Dickens</td>\n",
       "      <td>Young Readers</td>\n",
       "      <td>358</td>\n",
       "      <td>1839</td>\n",
       "      <td>55864</td>\n",
       "      <td>3</td>\n",
       "    </tr>\n",
       "    <tr>\n",
       "      <th>2357</th>\n",
       "      <td>Jr. Alger Horatio</td>\n",
       "      <td>Young Readers</td>\n",
       "      <td>166</td>\n",
       "      <td>1886</td>\n",
       "      <td>1056</td>\n",
       "      <td>0</td>\n",
       "    </tr>\n",
       "  </tbody>\n",
       "</table>\n",
       "<p>2242 rows × 6 columns</p>\n",
       "</div>"
      ],
      "text/plain": [
       "                   Author          Genre  Pages  Year  Downloads  Rating\n",
       "0             Jack London      Adventure    176  1906      41412       5\n",
       "1             Jules Verne      Adventure    449  1870      31688       4\n",
       "2     Arthur W. Marchmont      Adventure    268  1905      32146       0\n",
       "3      Arthur Conan Doyle      Adventure    198  1912      32490       4\n",
       "4             Jack London      Adventure     86  1903      86550       4\n",
       "...                   ...            ...    ...   ...        ...     ...\n",
       "2352    W. H. G. Kingston  Young Readers   1904  1874       1049       0\n",
       "2353         J. M. Barrie  Young Readers    137  1904      40361       4\n",
       "2354        Angela Brazil  Young Readers    164  1912      83206       0\n",
       "2355      Charles Dickens  Young Readers    358  1839      55864       3\n",
       "2357    Jr. Alger Horatio  Young Readers    166  1886       1056       0\n",
       "\n",
       "[2242 rows x 6 columns]"
      ]
     },
     "execution_count": 130,
     "metadata": {},
     "output_type": "execute_result"
    }
   ],
   "source": [
    "X = books.drop(columns = ['Title'])\n",
    "X"
   ]
  },
  {
   "cell_type": "markdown",
   "id": "2e9a1665",
   "metadata": {
    "id": "2e9a1665"
   },
   "source": [
    "### Conversion des variables catégoricales en variables numériques"
   ]
  },
  {
   "cell_type": "code",
   "execution_count": 131,
   "id": "ae9865a9",
   "metadata": {
    "id": "ae9865a9"
   },
   "outputs": [],
   "source": [
    "from sklearn.preprocessing import LabelEncoder\n",
    "\n",
    "le = LabelEncoder()\n",
    "\n",
    "X['Genre'] = le.fit_transform(X['Genre'])\n",
    "X['Author'] = le.fit_transform(X['Author'])"
   ]
  },
  {
   "cell_type": "code",
   "execution_count": 132,
   "id": "cec64fbb",
   "metadata": {
    "id": "cec64fbb",
    "outputId": "75ddc571-e786-4b80-efe2-9542b649f63b"
   },
   "outputs": [
    {
     "data": {
      "text/plain": [
       "Author       int32\n",
       "Genre        int32\n",
       "Pages        int64\n",
       "Year         int64\n",
       "Downloads    int64\n",
       "Rating       int64\n",
       "dtype: object"
      ]
     },
     "execution_count": 132,
     "metadata": {},
     "output_type": "execute_result"
    }
   ],
   "source": [
    "#Vérification que toutes nos données sont désormais numériques\n",
    "X.dtypes"
   ]
  },
  {
   "cell_type": "code",
   "execution_count": 133,
   "id": "e68870e0",
   "metadata": {
    "id": "e68870e0",
    "outputId": "5900858d-6b7a-4cfb-f606-09f39b1d0e0d"
   },
   "outputs": [
    {
     "data": {
      "text/plain": [
       "array([ 0,  1,  2,  3,  4,  5,  6,  7,  8,  9, 10, 11, 12, 13, 14, 15, 16,\n",
       "       17, 18, 19, 20, 21, 22, 23, 24, 25, 26, 27, 28, 29, 30, 31, 32, 33,\n",
       "       34, 35, 36, 37, 38, 39, 40, 41, 42, 43, 44, 45, 46, 47, 48, 49, 50,\n",
       "       51, 52, 53, 54, 55, 56, 57, 58, 59, 60])"
      ]
     },
     "execution_count": 133,
     "metadata": {},
     "output_type": "execute_result"
    }
   ],
   "source": [
    "#Visualisation des valeurs de la colonne Genre\n",
    "X['Genre'].unique()"
   ]
  },
  {
   "cell_type": "markdown",
   "id": "0690b282",
   "metadata": {
    "id": "0690b282"
   },
   "source": [
    "### Feature Scaling"
   ]
  },
  {
   "cell_type": "code",
   "execution_count": 134,
   "id": "b2cd6c34",
   "metadata": {
    "id": "b2cd6c34"
   },
   "outputs": [],
   "source": [
    "cols = X.columns"
   ]
  },
  {
   "cell_type": "code",
   "execution_count": 135,
   "id": "78949e85",
   "metadata": {
    "id": "78949e85"
   },
   "outputs": [],
   "source": [
    "from sklearn.preprocessing import MinMaxScaler\n",
    "\n",
    "mms = MinMaxScaler()\n",
    "\n",
    "X = mms.fit_transform(X)"
   ]
  },
  {
   "cell_type": "code",
   "execution_count": 136,
   "id": "82a135bb",
   "metadata": {
    "id": "82a135bb"
   },
   "outputs": [],
   "source": [
    "X = pd.DataFrame(X, columns=cols)"
   ]
  },
  {
   "cell_type": "code",
   "execution_count": 137,
   "id": "35463625",
   "metadata": {
    "id": "35463625",
    "outputId": "3b5282d3-129e-4202-fa75-0d2d9b81d4f2"
   },
   "outputs": [
    {
     "data": {
      "text/html": [
       "<div>\n",
       "<style scoped>\n",
       "    .dataframe tbody tr th:only-of-type {\n",
       "        vertical-align: middle;\n",
       "    }\n",
       "\n",
       "    .dataframe tbody tr th {\n",
       "        vertical-align: top;\n",
       "    }\n",
       "\n",
       "    .dataframe thead th {\n",
       "        text-align: right;\n",
       "    }\n",
       "</style>\n",
       "<table border=\"1\" class=\"dataframe\">\n",
       "  <thead>\n",
       "    <tr style=\"text-align: right;\">\n",
       "      <th></th>\n",
       "      <th>Author</th>\n",
       "      <th>Genre</th>\n",
       "      <th>Pages</th>\n",
       "      <th>Year</th>\n",
       "      <th>Downloads</th>\n",
       "      <th>Rating</th>\n",
       "    </tr>\n",
       "  </thead>\n",
       "  <tbody>\n",
       "    <tr>\n",
       "      <th>0</th>\n",
       "      <td>0.459389</td>\n",
       "      <td>0.0</td>\n",
       "      <td>0.085449</td>\n",
       "      <td>0.942631</td>\n",
       "      <td>0.052587</td>\n",
       "      <td>1.0</td>\n",
       "    </tr>\n",
       "    <tr>\n",
       "      <th>1</th>\n",
       "      <td>0.559825</td>\n",
       "      <td>0.0</td>\n",
       "      <td>0.218750</td>\n",
       "      <td>0.924827</td>\n",
       "      <td>0.040161</td>\n",
       "      <td>0.8</td>\n",
       "    </tr>\n",
       "    <tr>\n",
       "      <th>2</th>\n",
       "      <td>0.073362</td>\n",
       "      <td>0.0</td>\n",
       "      <td>0.130371</td>\n",
       "      <td>0.942136</td>\n",
       "      <td>0.040747</td>\n",
       "      <td>0.0</td>\n",
       "    </tr>\n",
       "    <tr>\n",
       "      <th>3</th>\n",
       "      <td>0.066376</td>\n",
       "      <td>0.0</td>\n",
       "      <td>0.096191</td>\n",
       "      <td>0.945598</td>\n",
       "      <td>0.041186</td>\n",
       "      <td>0.8</td>\n",
       "    </tr>\n",
       "    <tr>\n",
       "      <th>4</th>\n",
       "      <td>0.459389</td>\n",
       "      <td>0.0</td>\n",
       "      <td>0.041504</td>\n",
       "      <td>0.941147</td>\n",
       "      <td>0.110267</td>\n",
       "      <td>0.8</td>\n",
       "    </tr>\n",
       "  </tbody>\n",
       "</table>\n",
       "</div>"
      ],
      "text/plain": [
       "     Author  Genre     Pages      Year  Downloads  Rating\n",
       "0  0.459389    0.0  0.085449  0.942631   0.052587     1.0\n",
       "1  0.559825    0.0  0.218750  0.924827   0.040161     0.8\n",
       "2  0.073362    0.0  0.130371  0.942136   0.040747     0.0\n",
       "3  0.066376    0.0  0.096191  0.945598   0.041186     0.8\n",
       "4  0.459389    0.0  0.041504  0.941147   0.110267     0.8"
      ]
     },
     "execution_count": 137,
     "metadata": {},
     "output_type": "execute_result"
    }
   ],
   "source": [
    "X.head()"
   ]
  },
  {
   "cell_type": "markdown",
   "id": "6aa67764",
   "metadata": {
    "id": "6aa67764"
   },
   "source": [
    "## Préparation d'un modèle de Machine Learning"
   ]
  },
  {
   "cell_type": "markdown",
   "id": "65de6c39",
   "metadata": {
    "id": "65de6c39"
   },
   "source": [
    "### Modèle K-Means avec deux clusters"
   ]
  },
  {
   "cell_type": "code",
   "execution_count": 138,
   "id": "4b98861d",
   "metadata": {
    "id": "4b98861d",
    "outputId": "24e26fc2-673e-4457-83a7-2c3bc17e2011"
   },
   "outputs": [
    {
     "data": {
      "text/plain": [
       "KMeans(n_clusters=2, random_state=0)"
      ]
     },
     "execution_count": 138,
     "metadata": {},
     "output_type": "execute_result"
    }
   ],
   "source": [
    "from sklearn.cluster import KMeans\n",
    "\n",
    "kmeans = KMeans(n_clusters=2, random_state=0) \n",
    "\n",
    "kmeans.fit(X)"
   ]
  },
  {
   "cell_type": "markdown",
   "id": "642db5f7",
   "metadata": {
    "id": "642db5f7"
   },
   "source": [
    "### Affichage des paramètres du modèle KMeans"
   ]
  },
  {
   "cell_type": "code",
   "execution_count": 139,
   "id": "ff7cac77",
   "metadata": {
    "id": "ff7cac77",
    "outputId": "57763b5e-632f-475f-8181-3ebb80e43238"
   },
   "outputs": [
    {
     "data": {
      "text/plain": [
       "array([[0.51866854, 0.46867761, 0.1547993 , 0.94805117, 0.00944259,\n",
       "        0.01119691],\n",
       "       [0.49148073, 0.52330017, 0.13561627, 0.93662786, 0.04998168,\n",
       "        0.78988391]])"
      ]
     },
     "execution_count": 139,
     "metadata": {},
     "output_type": "execute_result"
    }
   ],
   "source": [
    "# Affichage des centroids du cluster\n",
    "kmeans.cluster_centers_"
   ]
  },
  {
   "cell_type": "code",
   "execution_count": 140,
   "id": "9c4eb8dc",
   "metadata": {
    "id": "9c4eb8dc",
    "outputId": "85f9d79e-98d7-4b7d-d753-c9e92b608a51"
   },
   "outputs": [
    {
     "data": {
      "text/plain": [
       "517.7269777319732"
      ]
     },
     "execution_count": 140,
     "metadata": {},
     "output_type": "execute_result"
    }
   ],
   "source": [
    "# Plus l'inertie du modèle est faible, meilleur est le modèle.\n",
    "kmeans.inertia_"
   ]
  },
  {
   "cell_type": "markdown",
   "id": "a94389ec",
   "metadata": {
    "id": "a94389ec"
   },
   "source": [
    "Nous constatons que ce modèle possède une valeur d'inertie très élévée, il s'agit donc d'un mauvais modèle pour ajuster les données. Nous devons donc changer le nombre de clusters."
   ]
  },
  {
   "cell_type": "markdown",
   "id": "f39cdf88",
   "metadata": {
    "id": "f39cdf88"
   },
   "source": [
    "### Utilisation de la méthode du coude (The Elbow Method) pour une valeur optimale de k en KMeans"
   ]
  },
  {
   "cell_type": "code",
   "execution_count": 141,
   "id": "6486eaca",
   "metadata": {
    "id": "6486eaca",
    "outputId": "a7516ee0-a211-4ef1-d986-69e950d2fba6"
   },
   "outputs": [
    {
     "data": {
      "image/png": "[encoded data removed]",
      "text/plain": [
       "<Figure size 864x576 with 1 Axes>"
      ]
     },
     "metadata": {},
     "output_type": "display_data"
    }
   ],
   "source": [
    "from sklearn.cluster import KMeans\n",
    "import matplotlib.pyplot as plt\n",
    "import seaborn as sns\n",
    "import warnings\n",
    "warnings.filterwarnings(\"ignore\")\n",
    "\n",
    "cs = []\n",
    "for i in range(1, 11):\n",
    "    kmeans = KMeans(n_clusters = i, init = 'k-means++', max_iter = 300, n_init = 10, random_state = 0)\n",
    "    kmeans.fit(X)\n",
    "    cs.append(kmeans.inertia_)\n",
    "\n",
    "plt.figure(figsize = (12,8))\n",
    "plt.plot(range(1, 11), cs)\n",
    "plt.title('The Elbow Method')\n",
    "plt.xlabel('Number of clusters')\n",
    "plt.ylabel('CS')\n",
    "plt.show()"
   ]
  },
  {
   "cell_type": "markdown",
   "id": "d26395a3",
   "metadata": {
    "id": "d26395a3"
   },
   "source": [
    "* Pour déterminer le nombre optimal de clusters, On sélectionne la valeur de k au «coude» qui correspond au point après lequel l'inertie commence à diminuer de façon linéaire. \n",
    "* Dans notre cas, on conclue que le nombre optimal de clusters pour les données est égal à soit 2, soit 3, soit 4 .\n",
    "* Or, nous avons constaté précédemment que pour k=2, notre modèle n'est pas optimal. Par conséquent, nous retenons les valeurs 3 et 4 pour k."
   ]
  },
  {
   "cell_type": "markdown",
   "id": "d3b35795",
   "metadata": {
    "id": "d3b35795"
   },
   "source": [
    "### Modèle K-Means avec trois clusters"
   ]
  },
  {
   "cell_type": "code",
   "execution_count": 142,
   "id": "5e7a8b32",
   "metadata": {
    "id": "5e7a8b32",
    "outputId": "8c211337-8423-4c8b-8f6a-19d6782c3a87"
   },
   "outputs": [
    {
     "name": "stdout",
     "output_type": "stream",
     "text": [
      "439.0612165251724\n"
     ]
    }
   ],
   "source": [
    "kmeans = KMeans(n_clusters=3, random_state=0)\n",
    "\n",
    "kmeans.fit(X)\n",
    "\n",
    "print(kmeans.inertia_)"
   ]
  },
  {
   "cell_type": "markdown",
   "id": "7a937133",
   "metadata": {
    "id": "7a937133"
   },
   "source": [
    "Nous obtenons une valeur d'inertie bien plus faible que celle obtenue avec k = 2. Nous pouvons donc potentiellement retenir la valeur de 3 pour le nombre de clusters. Cependant, vérifions d'abord s'il n'y a pas mieux avec k = 4."
   ]
  },
  {
   "cell_type": "markdown",
   "id": "3fb1efc5",
   "metadata": {
    "id": "3fb1efc5"
   },
   "source": [
    "### Modèle K-Means avec quatre clusters"
   ]
  },
  {
   "cell_type": "code",
   "execution_count": 143,
   "id": "c1071505",
   "metadata": {
    "id": "c1071505",
    "outputId": "283044d7-1240-44d1-b157-2f307a4c40e4"
   },
   "outputs": [
    {
     "name": "stdout",
     "output_type": "stream",
     "text": [
      "365.2642920531957\n"
     ]
    }
   ],
   "source": [
    "kmeans = KMeans(n_clusters=4, random_state=0)\n",
    "\n",
    "kmeans.fit(X)\n",
    "\n",
    "print(kmeans.inertia_)"
   ]
  },
  {
   "cell_type": "markdown",
   "id": "0892c8c1",
   "metadata": {
    "id": "0892c8c1"
   },
   "source": [
    "Avec un nombre de clusters égal à 4 nous obtenons une inertie bien plus faible que celle obtenue avec k = 2 et k = 3. Nous retenons donc k = 4 comme nombre de clusters optimal."
   ]
  },
  {
   "cell_type": "markdown",
   "id": "9129eb2f",
   "metadata": {
    "id": "9129eb2f"
   },
   "source": [
    "### Ajustement du modèle et prédictions "
   ]
  },
  {
   "cell_type": "code",
   "execution_count": 144,
   "id": "1c9bb7da",
   "metadata": {
    "id": "1c9bb7da"
   },
   "outputs": [],
   "source": [
    "kmeans = KMeans(n_clusters = 4, init = 'k-means++', random_state = 0)\n",
    "kmeans.fit(X)\n",
    "y_kmeans = kmeans.predict(X)"
   ]
  },
  {
   "cell_type": "code",
   "execution_count": 145,
   "id": "05546779",
   "metadata": {
    "id": "05546779",
    "outputId": "70d859b6-d2d6-49ca-e2e2-9197cf0d782f"
   },
   "outputs": [
    {
     "data": {
      "text/html": [
       "<div>\n",
       "<style scoped>\n",
       "    .dataframe tbody tr th:only-of-type {\n",
       "        vertical-align: middle;\n",
       "    }\n",
       "\n",
       "    .dataframe tbody tr th {\n",
       "        vertical-align: top;\n",
       "    }\n",
       "\n",
       "    .dataframe thead th {\n",
       "        text-align: right;\n",
       "    }\n",
       "</style>\n",
       "<table border=\"1\" class=\"dataframe\">\n",
       "  <thead>\n",
       "    <tr style=\"text-align: right;\">\n",
       "      <th></th>\n",
       "      <th>Author</th>\n",
       "      <th>Genre</th>\n",
       "      <th>Pages</th>\n",
       "      <th>Year</th>\n",
       "      <th>Downloads</th>\n",
       "      <th>Rating</th>\n",
       "      <th>Cluster</th>\n",
       "    </tr>\n",
       "  </thead>\n",
       "  <tbody>\n",
       "    <tr>\n",
       "      <th>0</th>\n",
       "      <td>0.459389</td>\n",
       "      <td>0.0</td>\n",
       "      <td>0.085449</td>\n",
       "      <td>0.942631</td>\n",
       "      <td>0.052587</td>\n",
       "      <td>1.0</td>\n",
       "      <td>2</td>\n",
       "    </tr>\n",
       "    <tr>\n",
       "      <th>1</th>\n",
       "      <td>0.559825</td>\n",
       "      <td>0.0</td>\n",
       "      <td>0.218750</td>\n",
       "      <td>0.924827</td>\n",
       "      <td>0.040161</td>\n",
       "      <td>0.8</td>\n",
       "      <td>0</td>\n",
       "    </tr>\n",
       "    <tr>\n",
       "      <th>2</th>\n",
       "      <td>0.073362</td>\n",
       "      <td>0.0</td>\n",
       "      <td>0.130371</td>\n",
       "      <td>0.942136</td>\n",
       "      <td>0.040747</td>\n",
       "      <td>0.0</td>\n",
       "      <td>3</td>\n",
       "    </tr>\n",
       "    <tr>\n",
       "      <th>3</th>\n",
       "      <td>0.066376</td>\n",
       "      <td>0.0</td>\n",
       "      <td>0.096191</td>\n",
       "      <td>0.945598</td>\n",
       "      <td>0.041186</td>\n",
       "      <td>0.8</td>\n",
       "      <td>2</td>\n",
       "    </tr>\n",
       "    <tr>\n",
       "      <th>4</th>\n",
       "      <td>0.459389</td>\n",
       "      <td>0.0</td>\n",
       "      <td>0.041504</td>\n",
       "      <td>0.941147</td>\n",
       "      <td>0.110267</td>\n",
       "      <td>0.8</td>\n",
       "      <td>2</td>\n",
       "    </tr>\n",
       "  </tbody>\n",
       "</table>\n",
       "</div>"
      ],
      "text/plain": [
       "     Author  Genre     Pages      Year  Downloads  Rating  Cluster\n",
       "0  0.459389    0.0  0.085449  0.942631   0.052587     1.0        2\n",
       "1  0.559825    0.0  0.218750  0.924827   0.040161     0.8        0\n",
       "2  0.073362    0.0  0.130371  0.942136   0.040747     0.0        3\n",
       "3  0.066376    0.0  0.096191  0.945598   0.041186     0.8        2\n",
       "4  0.459389    0.0  0.041504  0.941147   0.110267     0.8        2"
      ]
     },
     "execution_count": 145,
     "metadata": {},
     "output_type": "execute_result"
    }
   ],
   "source": [
    "#Affectation des labels à chaque ligne\n",
    "\n",
    "labels = kmeans.labels_\n",
    "X['Cluster'] = labels\n",
    "X.head()"
   ]
  },
  {
   "cell_type": "code",
   "execution_count": 146,
   "id": "2d01ad88",
   "metadata": {},
   "outputs": [
    {
     "data": {
      "text/html": [
       "<div>\n",
       "<style scoped>\n",
       "    .dataframe tbody tr th:only-of-type {\n",
       "        vertical-align: middle;\n",
       "    }\n",
       "\n",
       "    .dataframe tbody tr th {\n",
       "        vertical-align: top;\n",
       "    }\n",
       "\n",
       "    .dataframe thead th {\n",
       "        text-align: right;\n",
       "    }\n",
       "</style>\n",
       "<table border=\"1\" class=\"dataframe\">\n",
       "  <thead>\n",
       "    <tr style=\"text-align: right;\">\n",
       "      <th></th>\n",
       "      <th>Cluster</th>\n",
       "    </tr>\n",
       "  </thead>\n",
       "  <tbody>\n",
       "    <tr>\n",
       "      <th>0</th>\n",
       "      <td>2</td>\n",
       "    </tr>\n",
       "    <tr>\n",
       "      <th>1</th>\n",
       "      <td>0</td>\n",
       "    </tr>\n",
       "    <tr>\n",
       "      <th>2</th>\n",
       "      <td>3</td>\n",
       "    </tr>\n",
       "    <tr>\n",
       "      <th>3</th>\n",
       "      <td>2</td>\n",
       "    </tr>\n",
       "    <tr>\n",
       "      <th>4</th>\n",
       "      <td>2</td>\n",
       "    </tr>\n",
       "  </tbody>\n",
       "</table>\n",
       "</div>"
      ],
      "text/plain": [
       "   Cluster\n",
       "0        2\n",
       "1        0\n",
       "2        3\n",
       "3        2\n",
       "4        2"
      ]
     },
     "execution_count": 146,
     "metadata": {},
     "output_type": "execute_result"
    }
   ],
   "source": [
    "clusters=pd.DataFrame(X['Cluster'])\n",
    "clusters.head()"
   ]
  },
  {
   "cell_type": "code",
   "execution_count": 147,
   "id": "5a19db38",
   "metadata": {
    "id": "5a19db38"
   },
   "outputs": [
    {
     "data": {
      "text/html": [
       "<div>\n",
       "<style scoped>\n",
       "    .dataframe tbody tr th:only-of-type {\n",
       "        vertical-align: middle;\n",
       "    }\n",
       "\n",
       "    .dataframe tbody tr th {\n",
       "        vertical-align: top;\n",
       "    }\n",
       "\n",
       "    .dataframe thead th {\n",
       "        text-align: right;\n",
       "    }\n",
       "</style>\n",
       "<table border=\"1\" class=\"dataframe\">\n",
       "  <thead>\n",
       "    <tr style=\"text-align: right;\">\n",
       "      <th></th>\n",
       "      <th>Title</th>\n",
       "      <th>Author</th>\n",
       "      <th>Genre</th>\n",
       "      <th>Pages</th>\n",
       "      <th>Year</th>\n",
       "      <th>Downloads</th>\n",
       "      <th>Rating</th>\n",
       "      <th>Cluster</th>\n",
       "    </tr>\n",
       "  </thead>\n",
       "  <tbody>\n",
       "    <tr>\n",
       "      <th>0</th>\n",
       "      <td>White Fang</td>\n",
       "      <td>Jack London</td>\n",
       "      <td>Adventure</td>\n",
       "      <td>176.0</td>\n",
       "      <td>1906.0</td>\n",
       "      <td>41412.0</td>\n",
       "      <td>5.0</td>\n",
       "      <td>2.0</td>\n",
       "    </tr>\n",
       "    <tr>\n",
       "      <th>1</th>\n",
       "      <td>20000 Lieues sous les mers</td>\n",
       "      <td>Jules Verne</td>\n",
       "      <td>Adventure</td>\n",
       "      <td>449.0</td>\n",
       "      <td>1870.0</td>\n",
       "      <td>31688.0</td>\n",
       "      <td>4.0</td>\n",
       "      <td>0.0</td>\n",
       "    </tr>\n",
       "    <tr>\n",
       "      <th>2</th>\n",
       "      <td>By Wit of Woman</td>\n",
       "      <td>Arthur W. Marchmont</td>\n",
       "      <td>Adventure</td>\n",
       "      <td>268.0</td>\n",
       "      <td>1905.0</td>\n",
       "      <td>32146.0</td>\n",
       "      <td>0.0</td>\n",
       "      <td>3.0</td>\n",
       "    </tr>\n",
       "    <tr>\n",
       "      <th>3</th>\n",
       "      <td>The Lost World</td>\n",
       "      <td>Arthur Conan Doyle</td>\n",
       "      <td>Adventure</td>\n",
       "      <td>198.0</td>\n",
       "      <td>1912.0</td>\n",
       "      <td>32490.0</td>\n",
       "      <td>4.0</td>\n",
       "      <td>2.0</td>\n",
       "    </tr>\n",
       "    <tr>\n",
       "      <th>4</th>\n",
       "      <td>The Call of the Wild</td>\n",
       "      <td>Jack London</td>\n",
       "      <td>Adventure</td>\n",
       "      <td>86.0</td>\n",
       "      <td>1903.0</td>\n",
       "      <td>86550.0</td>\n",
       "      <td>4.0</td>\n",
       "      <td>2.0</td>\n",
       "    </tr>\n",
       "  </tbody>\n",
       "</table>\n",
       "</div>"
      ],
      "text/plain": [
       "                        Title               Author      Genre  Pages    Year  \\\n",
       "0                  White Fang          Jack London  Adventure  176.0  1906.0   \n",
       "1  20000 Lieues sous les mers          Jules Verne  Adventure  449.0  1870.0   \n",
       "2             By Wit of Woman  Arthur W. Marchmont  Adventure  268.0  1905.0   \n",
       "3              The Lost World   Arthur Conan Doyle  Adventure  198.0  1912.0   \n",
       "4        The Call of the Wild          Jack London  Adventure   86.0  1903.0   \n",
       "\n",
       "   Downloads  Rating  Cluster  \n",
       "0    41412.0     5.0      2.0  \n",
       "1    31688.0     4.0      0.0  \n",
       "2    32146.0     0.0      3.0  \n",
       "3    32490.0     4.0      2.0  \n",
       "4    86550.0     4.0      2.0  "
      ]
     },
     "execution_count": 147,
     "metadata": {},
     "output_type": "execute_result"
    }
   ],
   "source": [
    "books_final = pd.concat([books, clusters],axis=1)\n",
    "books_final.head()"
   ]
  },
  {
   "cell_type": "code",
   "execution_count": 148,
   "id": "d5b3f1d4",
   "metadata": {},
   "outputs": [],
   "source": [
    "# Convertir en int\n",
    "books_final['Cluster'] = pd.to_numeric(books_final['Cluster'], errors='coerce').fillna(0).astype(int)\n",
    "books_final['Pages'] = pd.to_numeric(books_final['Pages'], errors='coerce').fillna(0).astype(int)\n",
    "books_final['Year'] = pd.to_numeric(books_final['Year'], errors='coerce').fillna(0).astype(int)\n",
    "books_final['Rating'] = pd.to_numeric(books_final['Rating'], errors='coerce').fillna(0).astype(int)"
   ]
  },
  {
   "cell_type": "code",
   "execution_count": 149,
   "id": "b446eb9c",
   "metadata": {},
   "outputs": [
    {
     "data": {
      "text/html": [
       "<div>\n",
       "<style scoped>\n",
       "    .dataframe tbody tr th:only-of-type {\n",
       "        vertical-align: middle;\n",
       "    }\n",
       "\n",
       "    .dataframe tbody tr th {\n",
       "        vertical-align: top;\n",
       "    }\n",
       "\n",
       "    .dataframe thead th {\n",
       "        text-align: right;\n",
       "    }\n",
       "</style>\n",
       "<table border=\"1\" class=\"dataframe\">\n",
       "  <thead>\n",
       "    <tr style=\"text-align: right;\">\n",
       "      <th></th>\n",
       "      <th>Title</th>\n",
       "      <th>Author</th>\n",
       "      <th>Genre</th>\n",
       "      <th>Pages</th>\n",
       "      <th>Year</th>\n",
       "      <th>Downloads</th>\n",
       "      <th>Rating</th>\n",
       "      <th>Cluster</th>\n",
       "    </tr>\n",
       "  </thead>\n",
       "  <tbody>\n",
       "    <tr>\n",
       "      <th>0</th>\n",
       "      <td>White Fang</td>\n",
       "      <td>Jack London</td>\n",
       "      <td>Adventure</td>\n",
       "      <td>176</td>\n",
       "      <td>1906</td>\n",
       "      <td>41412.0</td>\n",
       "      <td>5</td>\n",
       "      <td>2</td>\n",
       "    </tr>\n",
       "    <tr>\n",
       "      <th>1</th>\n",
       "      <td>20000 Lieues sous les mers</td>\n",
       "      <td>Jules Verne</td>\n",
       "      <td>Adventure</td>\n",
       "      <td>449</td>\n",
       "      <td>1870</td>\n",
       "      <td>31688.0</td>\n",
       "      <td>4</td>\n",
       "      <td>0</td>\n",
       "    </tr>\n",
       "    <tr>\n",
       "      <th>2</th>\n",
       "      <td>By Wit of Woman</td>\n",
       "      <td>Arthur W. Marchmont</td>\n",
       "      <td>Adventure</td>\n",
       "      <td>268</td>\n",
       "      <td>1905</td>\n",
       "      <td>32146.0</td>\n",
       "      <td>0</td>\n",
       "      <td>3</td>\n",
       "    </tr>\n",
       "    <tr>\n",
       "      <th>3</th>\n",
       "      <td>The Lost World</td>\n",
       "      <td>Arthur Conan Doyle</td>\n",
       "      <td>Adventure</td>\n",
       "      <td>198</td>\n",
       "      <td>1912</td>\n",
       "      <td>32490.0</td>\n",
       "      <td>4</td>\n",
       "      <td>2</td>\n",
       "    </tr>\n",
       "    <tr>\n",
       "      <th>4</th>\n",
       "      <td>The Call of the Wild</td>\n",
       "      <td>Jack London</td>\n",
       "      <td>Adventure</td>\n",
       "      <td>86</td>\n",
       "      <td>1903</td>\n",
       "      <td>86550.0</td>\n",
       "      <td>4</td>\n",
       "      <td>2</td>\n",
       "    </tr>\n",
       "  </tbody>\n",
       "</table>\n",
       "</div>"
      ],
      "text/plain": [
       "                        Title               Author      Genre  Pages  Year  \\\n",
       "0                  White Fang          Jack London  Adventure    176  1906   \n",
       "1  20000 Lieues sous les mers          Jules Verne  Adventure    449  1870   \n",
       "2             By Wit of Woman  Arthur W. Marchmont  Adventure    268  1905   \n",
       "3              The Lost World   Arthur Conan Doyle  Adventure    198  1912   \n",
       "4        The Call of the Wild          Jack London  Adventure     86  1903   \n",
       "\n",
       "   Downloads  Rating  Cluster  \n",
       "0    41412.0       5        2  \n",
       "1    31688.0       4        0  \n",
       "2    32146.0       0        3  \n",
       "3    32490.0       4        2  \n",
       "4    86550.0       4        2  "
      ]
     },
     "execution_count": 149,
     "metadata": {},
     "output_type": "execute_result"
    }
   ],
   "source": [
    "books_final.head()"
   ]
  },
  {
   "cell_type": "markdown",
   "id": "18ffcfd2",
   "metadata": {},
   "source": [
    "### Partie d'apprentissage supervisée"
   ]
  },
  {
   "cell_type": "markdown",
   "id": "34bb0e1c",
   "metadata": {},
   "source": [
    "On va créer un modèle qui va apprendre a prédire le cluster en fonction du Title , Author, Genre , Pages, Year, Rating "
   ]
  },
  {
   "cell_type": "code",
   "execution_count": 150,
   "id": "c8cd71be",
   "metadata": {},
   "outputs": [],
   "source": [
    "X_train=books_final.drop(columns = ['Downloads','Cluster','Rating'])\n",
    "y_train=books_final['Cluster']"
   ]
  },
  {
   "cell_type": "code",
   "execution_count": 151,
   "id": "a6ef58ed",
   "metadata": {},
   "outputs": [],
   "source": [
    "X_train['Title'] = le.fit_transform(X_train['Title'])\n",
    "X_train['Author'] = le.fit_transform(X_train['Author'])\n",
    "X_train['Genre'] = le.fit_transform(X_train['Genre'])"
   ]
  },
  {
   "cell_type": "code",
   "execution_count": 152,
   "id": "81d76557",
   "metadata": {},
   "outputs": [],
   "source": [
    "cols = X_train.columns\n",
    "X_train = mms.fit_transform(X_train)\n",
    "X_train = pd.DataFrame(X_train, columns=cols)"
   ]
  },
  {
   "cell_type": "code",
   "execution_count": 153,
   "id": "51d19538",
   "metadata": {},
   "outputs": [],
   "source": [
    "# Importer KNeighborsClassifier \n",
    "from sklearn.neighbors import KNeighborsClassifier"
   ]
  },
  {
   "cell_type": "code",
   "execution_count": 154,
   "id": "a4caee84",
   "metadata": {},
   "outputs": [
    {
     "data": {
      "text/plain": [
       "KNeighborsClassifier(n_neighbors=1)"
      ]
     },
     "execution_count": 154,
     "metadata": {},
     "output_type": "execute_result"
    }
   ],
   "source": [
    "knn=KNeighborsClassifier(n_neighbors=1)\n",
    "knn.fit(X_train,y_train)"
   ]
  },
  {
   "cell_type": "code",
   "execution_count": 155,
   "id": "257415f1",
   "metadata": {},
   "outputs": [
    {
     "data": {
      "text/plain": [
       "0.9652100127280441"
      ]
     },
     "execution_count": 155,
     "metadata": {},
     "output_type": "execute_result"
    }
   ],
   "source": [
    "knn.score(X_train,y_train)"
   ]
  },
  {
   "cell_type": "markdown",
   "id": "d0aaaab8",
   "metadata": {},
   "source": [
    "### Classification des livres appreciés par un user selon les classes apprises"
   ]
  },
  {
   "cell_type": "code",
   "execution_count": 156,
   "id": "c0174ff2",
   "metadata": {},
   "outputs": [],
   "source": [
    "user=pd.read_csv('user_books.csv')"
   ]
  },
  {
   "cell_type": "code",
   "execution_count": 157,
   "id": "a5be6ff6",
   "metadata": {},
   "outputs": [
    {
     "data": {
      "text/html": [
       "<div>\n",
       "<style scoped>\n",
       "    .dataframe tbody tr th:only-of-type {\n",
       "        vertical-align: middle;\n",
       "    }\n",
       "\n",
       "    .dataframe tbody tr th {\n",
       "        vertical-align: top;\n",
       "    }\n",
       "\n",
       "    .dataframe thead th {\n",
       "        text-align: right;\n",
       "    }\n",
       "</style>\n",
       "<table border=\"1\" class=\"dataframe\">\n",
       "  <thead>\n",
       "    <tr style=\"text-align: right;\">\n",
       "      <th></th>\n",
       "      <th>Title</th>\n",
       "      <th>Author</th>\n",
       "      <th>Genre</th>\n",
       "      <th>Pages</th>\n",
       "      <th>Year</th>\n",
       "    </tr>\n",
       "  </thead>\n",
       "  <tbody>\n",
       "    <tr>\n",
       "      <th>0</th>\n",
       "      <td>Morning Glory</td>\n",
       "      <td>Lavyrle Spencer</td>\n",
       "      <td>Romance</td>\n",
       "      <td>448</td>\n",
       "      <td>1993</td>\n",
       "    </tr>\n",
       "    <tr>\n",
       "      <th>1</th>\n",
       "      <td>The Hunger Games Trilogy</td>\n",
       "      <td>Suzanne Collins</td>\n",
       "      <td>Science Fiction</td>\n",
       "      <td>1187</td>\n",
       "      <td>2010</td>\n",
       "    </tr>\n",
       "    <tr>\n",
       "      <th>2</th>\n",
       "      <td>Bird Box</td>\n",
       "      <td>Josh Malerman</td>\n",
       "      <td>Horror</td>\n",
       "      <td>305</td>\n",
       "      <td>2014</td>\n",
       "    </tr>\n",
       "    <tr>\n",
       "      <th>3</th>\n",
       "      <td>Emma</td>\n",
       "      <td>Jane Austen</td>\n",
       "      <td>Romance</td>\n",
       "      <td>1036</td>\n",
       "      <td>1815</td>\n",
       "    </tr>\n",
       "    <tr>\n",
       "      <th>4</th>\n",
       "      <td>The Testaments</td>\n",
       "      <td>Margaret Atwood</td>\n",
       "      <td>Science Fiction</td>\n",
       "      <td>432</td>\n",
       "      <td>2019</td>\n",
       "    </tr>\n",
       "    <tr>\n",
       "      <th>5</th>\n",
       "      <td>Olive, Again</td>\n",
       "      <td>Elizabeth Strout</td>\n",
       "      <td>Fiction and Literature</td>\n",
       "      <td>305</td>\n",
       "      <td>2019</td>\n",
       "    </tr>\n",
       "    <tr>\n",
       "      <th>6</th>\n",
       "      <td>Indigo</td>\n",
       "      <td>Beverly Jenkens</td>\n",
       "      <td>Romance</td>\n",
       "      <td>398</td>\n",
       "      <td>1996</td>\n",
       "    </tr>\n",
       "    <tr>\n",
       "      <th>7</th>\n",
       "      <td>The Water Dancer</td>\n",
       "      <td>Ta-Nehisi Coates</td>\n",
       "      <td>Fantasy</td>\n",
       "      <td>407</td>\n",
       "      <td>2019</td>\n",
       "    </tr>\n",
       "    <tr>\n",
       "      <th>8</th>\n",
       "      <td>And Then There Were None</td>\n",
       "      <td>Agatha Christie</td>\n",
       "      <td>Mystery/Detective</td>\n",
       "      <td>272</td>\n",
       "      <td>1939</td>\n",
       "    </tr>\n",
       "    <tr>\n",
       "      <th>9</th>\n",
       "      <td>Beloved</td>\n",
       "      <td>Toni Morrison</td>\n",
       "      <td>Classic</td>\n",
       "      <td>321</td>\n",
       "      <td>1987</td>\n",
       "    </tr>\n",
       "  </tbody>\n",
       "</table>\n",
       "</div>"
      ],
      "text/plain": [
       "                      Title            Author                   Genre  Pages  \\\n",
       "0             Morning Glory   Lavyrle Spencer                 Romance    448   \n",
       "1  The Hunger Games Trilogy   Suzanne Collins         Science Fiction   1187   \n",
       "2                  Bird Box     Josh Malerman                  Horror    305   \n",
       "3                      Emma       Jane Austen                 Romance   1036   \n",
       "4            The Testaments   Margaret Atwood         Science Fiction    432   \n",
       "5              Olive, Again  Elizabeth Strout  Fiction and Literature    305   \n",
       "6                    Indigo   Beverly Jenkens                 Romance    398   \n",
       "7          The Water Dancer  Ta-Nehisi Coates                 Fantasy    407   \n",
       "8  And Then There Were None   Agatha Christie       Mystery/Detective    272   \n",
       "9                   Beloved     Toni Morrison                 Classic    321   \n",
       "\n",
       "   Year  \n",
       "0  1993  \n",
       "1  2010  \n",
       "2  2014  \n",
       "3  1815  \n",
       "4  2019  \n",
       "5  2019  \n",
       "6  1996  \n",
       "7  2019  \n",
       "8  1939  \n",
       "9  1987  "
      ]
     },
     "execution_count": 157,
     "metadata": {},
     "output_type": "execute_result"
    }
   ],
   "source": [
    "user"
   ]
  },
  {
   "cell_type": "code",
   "execution_count": 158,
   "id": "7f5acf38",
   "metadata": {},
   "outputs": [],
   "source": [
    "user['Title'] = le.fit_transform(user['Title'])\n",
    "user['Author'] = le.fit_transform(user['Author'])\n",
    "user['Genre'] = le.fit_transform(user['Genre'])"
   ]
  },
  {
   "cell_type": "code",
   "execution_count": 159,
   "id": "60363f92",
   "metadata": {},
   "outputs": [],
   "source": [
    "cols = user.columns\n",
    "user = mms.fit_transform(user)\n",
    "user = pd.DataFrame(user, columns=cols)"
   ]
  },
  {
   "cell_type": "code",
   "execution_count": 160,
   "id": "f38a5b5c",
   "metadata": {},
   "outputs": [],
   "source": [
    "y_pred=knn.predict(user)"
   ]
  },
  {
   "cell_type": "code",
   "execution_count": 161,
   "id": "e4a0fa99",
   "metadata": {},
   "outputs": [
    {
     "data": {
      "text/plain": [
       "0    6\n",
       "2    2\n",
       "1    1\n",
       "3    1\n",
       "dtype: int64"
      ]
     },
     "execution_count": 161,
     "metadata": {},
     "output_type": "execute_result"
    }
   ],
   "source": [
    "pd.DataFrame(y_pred).value_counts()"
   ]
  },
  {
   "cell_type": "markdown",
   "id": "4c97557b",
   "metadata": {},
   "source": [
    "On en deduit alors que la majorité des livres que l'utilisateur aime appartiennent au Cluster '0'"
   ]
  },
  {
   "cell_type": "markdown",
   "id": "afc8eb21",
   "metadata": {},
   "source": [
    "Par consequent, on va lui recommender 3 premiers livres avec un rating élevé"
   ]
  },
  {
   "cell_type": "code",
   "execution_count": 162,
   "id": "6ce1813d",
   "metadata": {},
   "outputs": [
    {
     "data": {
      "text/html": [
       "<div>\n",
       "<style scoped>\n",
       "    .dataframe tbody tr th:only-of-type {\n",
       "        vertical-align: middle;\n",
       "    }\n",
       "\n",
       "    .dataframe tbody tr th {\n",
       "        vertical-align: top;\n",
       "    }\n",
       "\n",
       "    .dataframe thead th {\n",
       "        text-align: right;\n",
       "    }\n",
       "</style>\n",
       "<table border=\"1\" class=\"dataframe\">\n",
       "  <thead>\n",
       "    <tr style=\"text-align: right;\">\n",
       "      <th></th>\n",
       "      <th>Title</th>\n",
       "      <th>Author</th>\n",
       "      <th>Genre</th>\n",
       "      <th>Pages</th>\n",
       "      <th>Year</th>\n",
       "      <th>Downloads</th>\n",
       "      <th>Rating</th>\n",
       "      <th>Cluster</th>\n",
       "    </tr>\n",
       "  </thead>\n",
       "  <tbody>\n",
       "    <tr>\n",
       "      <th>2317</th>\n",
       "      <td>Secrets and Guardians: Devious Intentions</td>\n",
       "      <td>H. Chambers</td>\n",
       "      <td>Young Readers</td>\n",
       "      <td>214</td>\n",
       "      <td>2016</td>\n",
       "      <td>4126.0</td>\n",
       "      <td>5</td>\n",
       "      <td>0</td>\n",
       "    </tr>\n",
       "    <tr>\n",
       "      <th>2251</th>\n",
       "      <td>Riders of the Purple Sage</td>\n",
       "      <td>Zane Grey</td>\n",
       "      <td>Western</td>\n",
       "      <td>255</td>\n",
       "      <td>1912</td>\n",
       "      <td>8503.0</td>\n",
       "      <td>5</td>\n",
       "      <td>0</td>\n",
       "    </tr>\n",
       "    <tr>\n",
       "      <th>2028</th>\n",
       "      <td>Shimmer</td>\n",
       "      <td>Claudette Melanson</td>\n",
       "      <td>Short Story</td>\n",
       "      <td>10</td>\n",
       "      <td>2014</td>\n",
       "      <td>1691.0</td>\n",
       "      <td>5</td>\n",
       "      <td>0</td>\n",
       "    </tr>\n",
       "  </tbody>\n",
       "</table>\n",
       "</div>"
      ],
      "text/plain": [
       "                                          Title              Author  \\\n",
       "2317  Secrets and Guardians: Devious Intentions         H. Chambers   \n",
       "2251                  Riders of the Purple Sage           Zane Grey   \n",
       "2028                                    Shimmer  Claudette Melanson   \n",
       "\n",
       "              Genre  Pages  Year  Downloads  Rating  Cluster  \n",
       "2317  Young Readers    214  2016     4126.0       5        0  \n",
       "2251        Western    255  1912     8503.0       5        0  \n",
       "2028    Short Story     10  2014     1691.0       5        0  "
      ]
     },
     "execution_count": 162,
     "metadata": {},
     "output_type": "execute_result"
    }
   ],
   "source": [
    "books_final[books_final.Cluster==0].sort_values(by='Rating',ascending=False).head(3)"
   ]
  },
  {
   "cell_type": "code",
   "execution_count": null,
   "id": "ed6d18c0",
   "metadata": {},
   "outputs": [],
   "source": []
  }
 ],
 "metadata": {
  "colab": {
   "name": "Preprocessing_EDA_Modelling_part.ipynb",
   "provenance": []
  },
  "kernelspec": {
   "display_name": "Python 3",
   "language": "python",
   "name": "python3"
  },
  "language_info": {
   "codemirror_mode": {
    "name": "ipython",
    "version": 3
   },
   "file_extension": ".py",
   "mimetype": "text/x-python",
   "name": "python",
   "nbconvert_exporter": "python",
   "pygments_lexer": "ipython3",
   "version": "3.8.8"
  }
 },
 "nbformat": 4,
 "nbformat_minor": 5
}
